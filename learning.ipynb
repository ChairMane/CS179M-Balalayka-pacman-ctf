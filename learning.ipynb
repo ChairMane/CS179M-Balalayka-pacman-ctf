{
 "cells": [
  {
   "cell_type": "code",
   "execution_count": 1,
   "metadata": {},
   "outputs": [],
   "source": [
    "import pandas as pd\n",
    "import numpy as np\n",
    "\n",
    "import matplotlib.pyplot as plt\n",
    "from IPython.display import clear_output\n",
    "\n",
    "import joblib\n",
    "#import math\n",
    "\n",
    "import keras\n",
    "from keras.callbacks import EarlyStopping\n",
    "from keras.models import Sequential\n",
    "from keras.layers import Dense\n",
    "from keras.wrappers.scikit_learn import KerasRegressor\n",
    "\n",
    "#from sklearn.model_selection import cross_val_score\n",
    "#from sklearn.model_selection import KFold\n",
    "from sklearn.preprocessing import StandardScaler\n",
    "#from sklearn.pipeline import Pipeline\n",
    "\n",
    "#import requests"
   ]
  },
  {
   "cell_type": "code",
   "execution_count": null,
   "metadata": {},
   "outputs": [],
   "source": []
  },
  {
   "cell_type": "code",
   "execution_count": 2,
   "metadata": {},
   "outputs": [],
   "source": [
    "#col_names = list(range(1616))\n",
    "#other_names = ['stop', 'north', 'east', 'south', 'west']\n",
    "#col_names.extend(other_names)"
   ]
  },
  {
   "cell_type": "markdown",
   "metadata": {},
   "source": [
    "# read the data"
   ]
  },
  {
   "cell_type": "code",
   "execution_count": 6,
   "metadata": {},
   "outputs": [],
   "source": [
    "df_North = pd.read_csv('my_data_North.csv')\n",
    "df_South = pd.read_csv('my_data_South.csv')"
   ]
  },
  {
   "cell_type": "code",
   "execution_count": 7,
   "metadata": {},
   "outputs": [
    {
     "data": {
      "text/plain": [
       "(147735, 1616)"
      ]
     },
     "execution_count": 7,
     "metadata": {},
     "output_type": "execute_result"
    }
   ],
   "source": [
    "df_North.shape"
   ]
  },
  {
   "cell_type": "code",
   "execution_count": 8,
   "metadata": {},
   "outputs": [
    {
     "data": {
      "text/plain": [
       "(147739, 1616)"
      ]
     },
     "execution_count": 8,
     "metadata": {},
     "output_type": "execute_result"
    }
   ],
   "source": [
    "df_South.shape"
   ]
  },
  {
   "cell_type": "code",
   "execution_count": 9,
   "metadata": {},
   "outputs": [],
   "source": [
    "#df_North = pd.read_csv('my_data_North.csv', names = col_names, header = None)\n",
    "#df_South = pd.read_csv('my_data_South.csv', names = col_names, header = None)\n",
    "#df_North = df_North[0:0]\n",
    "#df_South = df_South[0:0]\n",
    "#df_North.to_csv('my_data_North.csv', index = False)\n",
    "#df_South.to_csv('my_data_South.csv', index = False)"
   ]
  },
  {
   "cell_type": "code",
   "execution_count": 10,
   "metadata": {},
   "outputs": [],
   "source": [
    "#df_North[df_North.columns[-6:]]"
   ]
  },
  {
   "cell_type": "markdown",
   "metadata": {},
   "source": [
    "# extract features and labels"
   ]
  },
  {
   "cell_type": "code",
   "execution_count": 11,
   "metadata": {},
   "outputs": [],
   "source": [
    "features_North = df_North[df_North.columns[:-1]].to_numpy()\n",
    "features_South = df_South[df_South.columns[:-1]].to_numpy()"
   ]
  },
  {
   "cell_type": "code",
   "execution_count": 12,
   "metadata": {},
   "outputs": [],
   "source": [
    "labels_North = df_North[df_North.columns[-1]].to_numpy()\n",
    "labels_South = df_South[df_South.columns[-1]].to_numpy()"
   ]
  },
  {
   "cell_type": "code",
   "execution_count": 13,
   "metadata": {},
   "outputs": [
    {
     "data": {
      "text/plain": [
       "(147735, 1615)"
      ]
     },
     "execution_count": 13,
     "metadata": {},
     "output_type": "execute_result"
    }
   ],
   "source": [
    "features_North.shape"
   ]
  },
  {
   "cell_type": "code",
   "execution_count": 14,
   "metadata": {},
   "outputs": [
    {
     "data": {
      "text/plain": [
       "(147735,)"
      ]
     },
     "execution_count": 14,
     "metadata": {},
     "output_type": "execute_result"
    }
   ],
   "source": [
    "labels_North.shape"
   ]
  },
  {
   "cell_type": "code",
   "execution_count": 15,
   "metadata": {},
   "outputs": [
    {
     "data": {
      "text/plain": [
       "(147739, 1615)"
      ]
     },
     "execution_count": 15,
     "metadata": {},
     "output_type": "execute_result"
    }
   ],
   "source": [
    "features_South.shape"
   ]
  },
  {
   "cell_type": "code",
   "execution_count": 16,
   "metadata": {},
   "outputs": [
    {
     "data": {
      "text/plain": [
       "(147739,)"
      ]
     },
     "execution_count": 16,
     "metadata": {},
     "output_type": "execute_result"
    }
   ],
   "source": [
    "labels_South.shape"
   ]
  },
  {
   "cell_type": "code",
   "execution_count": 17,
   "metadata": {},
   "outputs": [],
   "source": [
    "features = [features_North, features_South]\n",
    "labels = [labels_North, labels_South]\n",
    "file_model_names = ['model_North', 'model_South']\n",
    "file_scaler_names = ['scaler_North.sav', 'scaler_South.sav']"
   ]
  },
  {
   "cell_type": "code",
   "execution_count": 18,
   "metadata": {},
   "outputs": [],
   "source": [
    "class PlotLosses(keras.callbacks.Callback):\n",
    "    def on_train_begin(self, logs={}):\n",
    "        self.i = 0\n",
    "        self.x = []\n",
    "        self.losses = []\n",
    "        self.val_losses = []\n",
    "        \n",
    "        self.fig = plt.figure()\n",
    "        \n",
    "        self.logs = []\n",
    "\n",
    "    def on_epoch_end(self, epoch, logs={}):\n",
    "        \n",
    "        self.logs.append(logs)\n",
    "        self.x.append(self.i)\n",
    "        self.losses.append(logs.get('loss'))\n",
    "        self.val_losses.append(logs.get('val_loss'))\n",
    "        self.i += 1\n",
    "        \n",
    "        clear_output(wait=True)\n",
    "        plt.plot(self.x, self.losses, label=\"loss\")\n",
    "        plt.plot(self.x, self.val_losses, label=\"val_loss\")\n",
    "        plt.legend()\n",
    "        plt.show();\n",
    "\n",
    "my_callbacks = [PlotLosses(),\n",
    "                EarlyStopping(monitor='val_loss', patience=10, mode='min', min_delta=0.01)]"
   ]
  },
  {
   "cell_type": "code",
   "execution_count": 19,
   "metadata": {},
   "outputs": [
    {
     "data": {
      "image/png": "[encoded data removed]",
      "text/plain": [
       "<Figure size 432x288 with 1 Axes>"
      ]
     },
     "metadata": {
      "needs_background": "light"
     },
     "output_type": "display_data"
    },
    {
     "name": "stdout",
     "output_type": "stream",
     "text": [
      "INFO:tensorflow:Assets written to: model_South/assets\n"
     ]
    }
   ],
   "source": [
    "for i in range(2):    \n",
    "    #X_train, X_test, y_train, y_test = train_test_split(features[i], labels[i], test_size=0.30)\n",
    "    X_train = features[i]\n",
    "    y_train = labels[i]\n",
    "    \n",
    "    scaler = StandardScaler()\n",
    "    \n",
    "    # Fit only to the training data\n",
    "    scaler.fit(X_train)\n",
    "\n",
    "    # Now apply the transformations to the data:\n",
    "    X_train = scaler.transform(X_train)\n",
    "    #X_test = scaler.transform(X_test)\n",
    "    \n",
    "    model = Sequential()\n",
    "    model.add(Dense(1200, input_dim=1615, activation='sigmoid', kernel_initializer='he_uniform'))\n",
    "    model.add(Dense(700, activation='sigmoid'))\n",
    "    model.add(Dense(200, activation='sigmoid'))\n",
    "    model.add(Dense(1, activation='linear'))\n",
    "    model.compile(loss='mse', optimizer='adam', metrics=['accuracy'])\n",
    "\n",
    "    model.fit(X_train, y_train, validation_split=0.3, \n",
    "                        epochs=3, batch_size=300, verbose=0,\n",
    "                        callbacks = my_callbacks)\n",
    "    \n",
    "    model.save(file_model_names[i])\n",
    "    joblib.dump(scaler, file_scaler_names[i])"
   ]
  },
  {
   "cell_type": "code",
   "execution_count": null,
   "metadata": {},
   "outputs": [],
   "source": []
  },
  {
   "cell_type": "code",
   "execution_count": null,
   "metadata": {},
   "outputs": [],
   "source": []
  },
  {
   "cell_type": "code",
   "execution_count": null,
   "metadata": {},
   "outputs": [],
   "source": []
  },
  {
   "cell_type": "code",
   "execution_count": null,
   "metadata": {},
   "outputs": [],
   "source": []
  },
  {
   "cell_type": "markdown",
   "metadata": {},
   "source": [
    "# Old code=---"
   ]
  },
  {
   "cell_type": "code",
   "execution_count": 19,
   "metadata": {},
   "outputs": [
    {
     "name": "stdout",
     "output_type": "stream",
     "text": [
      "Iteration 1, loss = 3.04817053\n",
      "Iteration 2, loss = 2.81906542\n",
      "Iteration 3, loss = 2.81013029\n",
      "Iteration 4, loss = 1.98748582\n",
      "Iteration 5, loss = 1.19026646\n",
      "Iteration 6, loss = 0.84632926\n",
      "Iteration 7, loss = 0.66481844\n",
      "Iteration 8, loss = 0.58025870\n",
      "Iteration 9, loss = 0.49791816\n",
      "Iteration 10, loss = 0.44718108\n",
      "Iteration 11, loss = 0.42759376\n",
      "Iteration 12, loss = 0.40757651\n",
      "Iteration 13, loss = 0.41208188\n",
      "Iteration 14, loss = 0.40228688\n",
      "Iteration 15, loss = 0.39447076\n",
      "Iteration 16, loss = 0.38371516\n",
      "Iteration 17, loss = 0.35847648\n",
      "Iteration 18, loss = 0.35993490\n",
      "Iteration 19, loss = 0.36674293\n",
      "Iteration 20, loss = 0.36287561\n"
     ]
    },
    {
     "name": "stderr",
     "output_type": "stream",
     "text": [
      "/home/dim314159/.local/lib/python3.5/site-packages/sklearn/neural_network/_multilayer_perceptron.py:573: UserWarning: Training interrupted by user.\n",
      "  warnings.warn(\"Training interrupted by user.\")\n"
     ]
    },
    {
     "name": "stdout",
     "output_type": "stream",
     "text": [
      "train score:  0.8923642582265957\n",
      "test score:  0.8048771114317436\n",
      "Iteration 1, loss = 3.88447673\n",
      "Iteration 2, loss = 3.67854844\n",
      "Iteration 3, loss = 3.24258648\n",
      "Iteration 4, loss = 2.49317715\n",
      "Iteration 5, loss = 2.04342680\n",
      "Iteration 6, loss = 1.70473007\n",
      "Iteration 7, loss = 1.43318910\n",
      "Iteration 8, loss = 1.25153257\n"
     ]
    },
    {
     "name": "stderr",
     "output_type": "stream",
     "text": [
      "/home/dim314159/.local/lib/python3.5/site-packages/sklearn/neural_network/_multilayer_perceptron.py:573: UserWarning: Training interrupted by user.\n",
      "  warnings.warn(\"Training interrupted by user.\")\n"
     ]
    },
    {
     "name": "stdout",
     "output_type": "stream",
     "text": [
      "train score:  0.7196962305611564\n",
      "test score:  0.6368583514123656\n"
     ]
    }
   ],
   "source": [
    "for i in range(2):    \n",
    "    X_train, X_test, y_train, y_test = train_test_split(features[i], labels[i], test_size=0.30)\n",
    "    scaler = StandardScaler()\n",
    "    # Fit only to the training data\n",
    "    scaler.fit(X_train)\n",
    "\n",
    "    # Now apply the transformations to the data:\n",
    "    X_train = scaler.transform(X_train)\n",
    "    X_test = scaler.transform(X_test)\n",
    "\n",
    "    mlp = MLPRegressor(hidden_layer_sizes=(1200, 700, 200), activation='logistic', \n",
    "                       early_stopping=False, random_state=2,\n",
    "                       batch_size=400, learning_rate_init=0.01,\n",
    "                       verbose=1, max_iter=100)\n",
    "    mlp.fit(X_train, y_train)\n",
    "    \n",
    "    joblib.dump(mlp, file_model_names[i])\n",
    "    joblib.dump(scaler, file_scaler_names[i])\n",
    "    \n",
    "    print('train score: ', mlp.score(X_train, y_train))\n",
    "    print('test score: ', mlp.score(X_test, y_test))"
   ]
  },
  {
   "cell_type": "code",
   "execution_count": null,
   "metadata": {},
   "outputs": [],
   "source": [
    "loss_curve_"
   ]
  },
  {
   "cell_type": "markdown",
   "metadata": {},
   "source": [
    "# here cross validation can be made"
   ]
  },
  {
   "cell_type": "code",
   "execution_count": null,
   "metadata": {},
   "outputs": [],
   "source": [
    "X_train, X_test, y_train, y_test = train_test_split(features[i], labels[i], test_size=0.30, \n",
    "                                                    random_state=42)\n",
    "print(X_train.shape); print(X_test.shape); print(y_train.shape); print(y_test.shape)\n",
    "\n",
    "scaler = StandardScaler()\n",
    "# Fit only to the training data\n",
    "scaler.fit(X_train)\n",
    "\n",
    "# Now apply the transformations to the data:\n",
    "X_train = scaler.transform(X_train)\n",
    "X_test = scaler.transform(X_test)"
   ]
  },
  {
   "cell_type": "code",
   "execution_count": 49,
   "metadata": {},
   "outputs": [
    {
     "data": {
      "text/plain": [
       "MLPClassifier(activation='tanh', alpha=0.0001, batch_size='auto', beta_1=0.9,\n",
       "              beta_2=0.999, early_stopping=False, epsilon=1e-08,\n",
       "              hidden_layer_sizes=(1200, 300), learning_rate='constant',\n",
       "              learning_rate_init=0.001, max_fun=15000, max_iter=500,\n",
       "              momentum=0.9, n_iter_no_change=10, nesterovs_momentum=True,\n",
       "              power_t=0.5, random_state=None, shuffle=True, solver='adam',\n",
       "              tol=0.0001, validation_fraction=0.1, verbose=False,\n",
       "              warm_start=False)"
      ]
     },
     "execution_count": 49,
     "metadata": {},
     "output_type": "execute_result"
    }
   ],
   "source": [
    "mlp = MLPClassifier(hidden_layer_sizes=(1200, 300), activation='tanh', solver='adam', max_iter=500)\n",
    "mlp.fit(X_train,y_train)"
   ]
  },
  {
   "cell_type": "code",
   "execution_count": 56,
   "metadata": {},
   "outputs": [],
   "source": [
    "predict_train = mlp.predict_proba(X_train)\n",
    "predict_test = mlp.predict_proba(X_test)"
   ]
  },
  {
   "cell_type": "code",
   "execution_count": 58,
   "metadata": {},
   "outputs": [],
   "source": [
    "#print(confusion_matrix(y_train,predict_train))\n",
    "#print(classification_report(y_train,predict_train))"
   ]
  },
  {
   "cell_type": "code",
   "execution_count": 52,
   "metadata": {},
   "outputs": [
    {
     "name": "stdout",
     "output_type": "stream",
     "text": [
      "              precision    recall  f1-score   support\n",
      "\n",
      "           0       0.00      0.00      0.00         0\n",
      "           1       0.93      0.90      0.92       415\n",
      "           2       0.92      0.95      0.93       532\n",
      "           3       0.87      0.89      0.88       319\n",
      "           4       0.92      0.83      0.88       280\n",
      "\n",
      "   micro avg       0.91      0.90      0.91      1546\n",
      "   macro avg       0.73      0.71      0.72      1546\n",
      "weighted avg       0.91      0.90      0.91      1546\n",
      " samples avg       0.90      0.90      0.90      1546\n",
      "\n"
     ]
    }
   ],
   "source": [
    "#print(confusion_matrix(y_test,predict_test))\n",
    "#print(classification_report(y_test,predict_test))"
   ]
  },
  {
   "cell_type": "code",
   "execution_count": 32,
   "metadata": {},
   "outputs": [],
   "source": [
    "moves = mlp.predict_proba([features_North[1]])[0]"
   ]
  },
  {
   "cell_type": "code",
   "execution_count": 40,
   "metadata": {},
   "outputs": [],
   "source": [
    "keys = ['Stop', 'North', 'East', 'South', 'West']\n",
    "m = moves / moves.sum()"
   ]
  },
  {
   "cell_type": "code",
   "execution_count": 42,
   "metadata": {},
   "outputs": [
    {
     "data": {
      "text/plain": [
       "'North'"
      ]
     },
     "execution_count": 42,
     "metadata": {},
     "output_type": "execute_result"
    }
   ],
   "source": [
    "np.random.choice(keys, 1, p=m)[0]"
   ]
  },
  {
   "cell_type": "code",
   "execution_count": null,
   "metadata": {},
   "outputs": [],
   "source": []
  },
  {
   "cell_type": "markdown",
   "metadata": {},
   "source": [
    "# Practice_ML"
   ]
  },
  {
   "cell_type": "markdown",
   "metadata": {},
   "source": [
    "# functions"
   ]
  },
  {
   "cell_type": "code",
   "execution_count": 11,
   "metadata": {},
   "outputs": [],
   "source": [
    "def sigmoid(x):\n",
    "    return 1 / (1 + np.exp(-x))"
   ]
  },
  {
   "cell_type": "code",
   "execution_count": 12,
   "metadata": {},
   "outputs": [],
   "source": [
    "def sigmoid_der(x):\n",
    "    return sigmoid(x) * (1 - sigmoid(x))"
   ]
  },
  {
   "cell_type": "code",
   "execution_count": 13,
   "metadata": {},
   "outputs": [],
   "source": [
    "def tang_h(x):\n",
    "    return (np.exp(x) - np.exp(-x)) / (np.exp(x) + np.exp(-x))"
   ]
  },
  {
   "cell_type": "code",
   "execution_count": 14,
   "metadata": {},
   "outputs": [],
   "source": [
    "def tang_h_der(x):\n",
    "    return 1 - np.square(tang_h(x))"
   ]
  },
  {
   "cell_type": "code",
   "execution_count": 15,
   "metadata": {},
   "outputs": [],
   "source": [
    "def softmax(A):\n",
    "    exp_A = np.exp(A)\n",
    "    return exp_A / exp_A.sum(axis = 1, keepdims = True)"
   ]
  },
  {
   "cell_type": "code",
   "execution_count": 16,
   "metadata": {},
   "outputs": [],
   "source": [
    "def normalize(features):\n",
    "    z_norm = []\n",
    "    for row in features:\n",
    "        m = np.mean(row)\n",
    "        sd = np.sqrt(np.sum((row - m) ** 2) / (features_number - 1))\n",
    "        z_norm.append((row - m) / sd)\n",
    "    return np.asarray(z_norm)"
   ]
  },
  {
   "cell_type": "code",
   "execution_count": 17,
   "metadata": {},
   "outputs": [],
   "source": [
    "act_func = sigmoid\n",
    "der_func = sigmoid_der"
   ]
  },
  {
   "cell_type": "markdown",
   "metadata": {},
   "source": [
    "# generate weights"
   ]
  },
  {
   "cell_type": "code",
   "execution_count": 17,
   "metadata": {},
   "outputs": [],
   "source": [
    "#cases_number = features.shape[0]\n",
    "features_number = features_North.shape[1]"
   ]
  },
  {
   "cell_type": "code",
   "execution_count": 18,
   "metadata": {},
   "outputs": [],
   "source": [
    "neurons = 700\n",
    "outputs = 5"
   ]
  },
  {
   "cell_type": "code",
   "execution_count": 2,
   "metadata": {},
   "outputs": [],
   "source": []
  },
  {
   "cell_type": "code",
   "execution_count": null,
   "metadata": {},
   "outputs": [],
   "source": [
    "features_North_norm = normalize(features_North)\n",
    "features_South_norm = normalize(features_South)"
   ]
  },
  {
   "cell_type": "code",
   "execution_count": 28,
   "metadata": {},
   "outputs": [],
   "source": [
    "wh = np.random.rand(features_number, neurons) * np.sqrt(2.0 / features_number)\n",
    "bh = np.random.randn(neurons)"
   ]
  },
  {
   "cell_type": "code",
   "execution_count": 29,
   "metadata": {},
   "outputs": [],
   "source": [
    "wo = np.random.rand(neurons, outputs) * np.sqrt(2.0 / neurons)\n",
    "bo = np.random.randn(outputs)"
   ]
  },
  {
   "cell_type": "code",
   "execution_count": 30,
   "metadata": {},
   "outputs": [],
   "source": [
    "learning_rate = 1e-6"
   ]
  },
  {
   "cell_type": "code",
   "execution_count": 18,
   "metadata": {},
   "outputs": [],
   "source": [
    "def train_model(features, labels, name):\n",
    "    error_cost = []\n",
    "    counter = 0\n",
    "    for epoch in range(5000):\n",
    "        # feed forward\n",
    "        sh = np.dot(features, wh) + bh\n",
    "        ah = act_func(sh)\n",
    "        so = np.dot(ah, wo) + bo\n",
    "        ao = softmax(so)\n",
    "\n",
    "        # back propagation\n",
    "        der_cost_so = ao - labels\n",
    "        der_cost_bo = der_cost_so\n",
    "        der_so_wo = ah\n",
    "        der_cost_wo = np.dot(der_so_wo.T, der_cost_so)\n",
    "\n",
    "        der_so_ah = wo\n",
    "        der_cost_ah = np.dot(der_cost_so, der_so_ah.T)\n",
    "        der_ah_sh = der_func(sh)\n",
    "        der_sh_wh = features\n",
    "        der_cost_wh = np.dot(der_sh_wh.T, der_ah_sh * der_cost_ah)\n",
    "        der_cost_bh = der_cost_ah * der_ah_sh\n",
    "\n",
    "        # update weights\n",
    "        wh -= learning_rate * der_cost_wh\n",
    "        bh -= learning_rate * der_cost_bh.sum(axis = 0)\n",
    "        wo -= learning_rate * der_cost_wo\n",
    "        bo -= learning_rate * der_cost_bo.sum(axis = 0)\n",
    "\n",
    "        if epoch % 200 == 0:\n",
    "            loss = np.sum(-labels * np.log(ao))\n",
    "            error_cost.append(loss)\n",
    "            print(counter)\n",
    "            counter += 200\n",
    "    \n",
    "    file_wh = 'wh_' + name + '.npy'\n",
    "    file_bh = 'bh_' + name + '.npy'\n",
    "    file_wo = 'wo_' + name + '.npy'\n",
    "    file_bo = 'bo_' + name + '.npy'\n",
    "    np.save(file_wh, wh)\n",
    "    np.save(file_bh, bh)\n",
    "    np.save(file_wo, wo)\n",
    "    np.save(file_bo, bo)\n",
    "    \n",
    "    return error_cost"
   ]
  },
  {
   "cell_type": "code",
   "execution_count": 32,
   "metadata": {},
   "outputs": [
    {
     "data": {
      "image/png": "[encoded data removed]",
      "text/plain": [
       "<matplotlib.figure.Figure at 0x7f6a33e38f60>"
      ]
     },
     "metadata": {
      "needs_background": "light"
     },
     "output_type": "display_data"
    }
   ],
   "source": [
    "plt.plot(error_cost)\n",
    "plt.show()"
   ]
  },
  {
   "cell_type": "code",
   "execution_count": 33,
   "metadata": {},
   "outputs": [
    {
     "data": {
      "text/plain": [
       "[23076.975382688084,\n",
       " 13016.5656414192,\n",
       " 11808.398816474059,\n",
       " 10966.797732593897,\n",
       " 10216.84663716165,\n",
       " 9550.333908304756,\n",
       " 8984.460304617121,\n",
       " 8515.26077599383,\n",
       " 8127.363988962858,\n",
       " 7803.81216796085,\n",
       " 7530.018527418747,\n",
       " 7294.662254208968,\n",
       " 7089.306197754939,\n",
       " 6907.68201411569,\n",
       " 6745.067462834295,\n",
       " 6597.848686690792,\n",
       " 6463.228405670768,\n",
       " 6339.024751468348,\n",
       " 6223.525247749425,\n",
       " 6115.377916838948,\n",
       " 6013.509570481139,\n",
       " 5917.064219416161,\n",
       " 5825.356066757624,\n",
       " 5737.832992808633,\n",
       " 5654.047753608589]"
      ]
     },
     "execution_count": 33,
     "metadata": {},
     "output_type": "execute_result"
    }
   ],
   "source": [
    "error_cost"
   ]
  },
  {
   "cell_type": "code",
   "execution_count": 34,
   "metadata": {},
   "outputs": [],
   "source": [
    "np.save('wh.npy', wh)\n",
    "np.save('bh.npy', bh)\n",
    "np.save('wo.npy', wo)\n",
    "np.save('bo.npy', bo)"
   ]
  },
  {
   "cell_type": "code",
   "execution_count": null,
   "metadata": {},
   "outputs": [],
   "source": []
  },
  {
   "cell_type": "markdown",
   "metadata": {},
   "source": [
    "# Practice_other"
   ]
  },
  {
   "cell_type": "code",
   "execution_count": 59,
   "metadata": {},
   "outputs": [
    {
     "data": {
      "text/plain": [
       "array([0., 0., 0., 0., 0.])"
      ]
     },
     "execution_count": 59,
     "metadata": {},
     "output_type": "execute_result"
    }
   ],
   "source": [
    "aa = np.zeros(5)\n",
    "aa"
   ]
  },
  {
   "cell_type": "code",
   "execution_count": 60,
   "metadata": {},
   "outputs": [
    {
     "data": {
      "text/plain": [
       "array([0., 0., 1., 1., 0.])"
      ]
     },
     "execution_count": 60,
     "metadata": {},
     "output_type": "execute_result"
    }
   ],
   "source": [
    "aa[-3:-1] += 1\n",
    "aa"
   ]
  },
  {
   "cell_type": "code",
   "execution_count": 61,
   "metadata": {},
   "outputs": [
    {
     "data": {
      "text/plain": [
       "array([1., 1., 1.])"
      ]
     },
     "execution_count": 61,
     "metadata": {},
     "output_type": "execute_result"
    }
   ],
   "source": [
    "bb = np.ones(3)\n",
    "bb"
   ]
  },
  {
   "cell_type": "code",
   "execution_count": 62,
   "metadata": {},
   "outputs": [
    {
     "data": {
      "text/plain": [
       "array([[0., 0., 1., 1., 0.],\n",
       "       [3., 4., 3., 2., 4.],\n",
       "       [5., 4., 5., 3., 5.]])"
      ]
     },
     "execution_count": 62,
     "metadata": {},
     "output_type": "execute_result"
    }
   ],
   "source": [
    "aa = np.vstack((aa, [3, 4, 3, 2, 4], [5, 4, 5, 3, 5]))\n",
    "aa"
   ]
  },
  {
   "cell_type": "code",
   "execution_count": 63,
   "metadata": {},
   "outputs": [
    {
     "data": {
      "text/plain": [
       "array([[0., 0., 1., 1., 0., 1.],\n",
       "       [3., 4., 3., 2., 4., 1.],\n",
       "       [5., 4., 5., 3., 5., 1.]])"
      ]
     },
     "execution_count": 63,
     "metadata": {},
     "output_type": "execute_result"
    }
   ],
   "source": [
    "np.column_stack((aa, bb))"
   ]
  },
  {
   "cell_type": "code",
   "execution_count": 26,
   "metadata": {},
   "outputs": [
    {
     "data": {
      "text/plain": [
       "array([1., 1., 1., 4.])"
      ]
     },
     "execution_count": 26,
     "metadata": {},
     "output_type": "execute_result"
    }
   ],
   "source": [
    "np.concatenate((bb, [4]))"
   ]
  },
  {
   "cell_type": "code",
   "execution_count": 28,
   "metadata": {},
   "outputs": [],
   "source": [
    "import random"
   ]
  },
  {
   "cell_type": "code",
   "execution_count": 36,
   "metadata": {},
   "outputs": [],
   "source": [
    "aa = ['South', 'North', 'West']"
   ]
  },
  {
   "cell_type": "code",
   "execution_count": 50,
   "metadata": {},
   "outputs": [
    {
     "data": {
      "text/plain": [
       "'South'"
      ]
     },
     "execution_count": 50,
     "metadata": {},
     "output_type": "execute_result"
    }
   ],
   "source": [
    "random.choice(aa)"
   ]
  },
  {
   "cell_type": "code",
   "execution_count": 84,
   "metadata": {},
   "outputs": [
    {
     "data": {
      "text/plain": [
       "array([1., 1., 1., 1., 1.])"
      ]
     },
     "execution_count": 84,
     "metadata": {},
     "output_type": "execute_result"
    }
   ],
   "source": [
    "aa = np.ones(5)\n",
    "aa"
   ]
  },
  {
   "cell_type": "code",
   "execution_count": 101,
   "metadata": {},
   "outputs": [
    {
     "data": {
      "text/plain": [
       "array([0.03, 0.09, 0.27, 0.81, 2.43])"
      ]
     },
     "execution_count": 101,
     "metadata": {},
     "output_type": "execute_result"
    }
   ],
   "source": [
    "bb = np.logspace(1, 5, num=5, base=3) / 100\n",
    "bb"
   ]
  },
  {
   "cell_type": "code",
   "execution_count": 102,
   "metadata": {},
   "outputs": [
    {
     "data": {
      "text/plain": [
       "array([0.09, 0.27, 0.81, 2.43, 7.29])"
      ]
     },
     "execution_count": 102,
     "metadata": {},
     "output_type": "execute_result"
    }
   ],
   "source": [
    "bb * 3"
   ]
  },
  {
   "cell_type": "code",
   "execution_count": 103,
   "metadata": {},
   "outputs": [
    {
     "data": {
      "text/plain": [
       "array([0.015, 0.045, 0.135, 0.405, 1.215])"
      ]
     },
     "execution_count": 103,
     "metadata": {},
     "output_type": "execute_result"
    }
   ],
   "source": [
    "bb / 2"
   ]
  },
  {
   "cell_type": "code",
   "execution_count": null,
   "metadata": {},
   "outputs": [],
   "source": []
  },
  {
   "cell_type": "code",
   "execution_count": null,
   "metadata": {},
   "outputs": [],
   "source": []
  },
  {
   "cell_type": "code",
   "execution_count": 91,
   "metadata": {},
   "outputs": [
    {
     "data": {
      "text/plain": [
       "array([0.4       , 0.52780316, 0.69644045, 0.91895868, 1.21257325,\n",
       "       1.6       ])"
      ]
     },
     "execution_count": 91,
     "metadata": {},
     "output_type": "execute_result"
    }
   ],
   "source": [
    "np.logspace(2, 4, num=6, base=2) / 10"
   ]
  },
  {
   "cell_type": "code",
   "execution_count": 40,
   "metadata": {},
   "outputs": [
    {
     "data": {
      "text/plain": [
       "3.592125960674712"
      ]
     },
     "execution_count": 40,
     "metadata": {},
     "output_type": "execute_result"
    }
   ],
   "source": [
    "-3 * math.tanh(0.2 * 5 - 1.2) + 3"
   ]
  },
  {
   "cell_type": "code",
   "execution_count": null,
   "metadata": {},
   "outputs": [],
   "source": []
  }
 ],
 "metadata": {
  "kernelspec": {
   "display_name": "Python 3",
   "language": "python",
   "name": "python3"
  },
  "language_info": {
   "codemirror_mode": {
    "name": "ipython",
    "version": 3
   },
   "file_extension": ".py",
   "mimetype": "text/x-python",
   "name": "python",
   "nbconvert_exporter": "python",
   "pygments_lexer": "ipython3",
   "version": "3.7.1"
  }
 },
 "nbformat": 4,
 "nbformat_minor": 4
}
