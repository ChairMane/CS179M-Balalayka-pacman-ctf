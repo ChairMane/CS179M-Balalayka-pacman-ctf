{
  "nbformat": 4,
  "nbformat_minor": 0,
  "metadata": {
    "colab": {
      "name": "Untitled1.ipynb",
      "provenance": []
    },
    "kernelspec": {
      "name": "python3",
      "display_name": "Python 3"
    }
  },
  "cells": [
    {
      "cell_type": "code",
      "metadata": {
        "id": "nlAbJ8L1FzRY",
        "colab_type": "code",
        "colab": {}
      },
      "source": [
        "import pandas as pd\n",
        "import numpy as np\n",
        "\n",
        "import matplotlib.pyplot as plt\n",
        "from IPython.display import clear_output\n",
        "\n",
        "import joblib\n",
        "import math\n",
        "\n",
        "import keras\n",
        "from keras.models import Sequential\n",
        "from keras.layers import Dense\n",
        "from keras.wrappers.scikit_learn import KerasRegressor\n",
        "\n",
        "from sklearn.model_selection import cross_val_score\n",
        "from sklearn.model_selection import KFold\n",
        "from sklearn.preprocessing import StandardScaler\n",
        "from sklearn.pipeline import Pipeline\n",
        "\n",
        "import requests"
      ],
      "execution_count": 20,
      "outputs": []
    },
    {
      "cell_type": "code",
      "metadata": {
        "id": "elkpUP7V_bAP",
        "colab_type": "code",
        "colab": {
          "base_uri": "https://localhost:8080/",
          "height": 54
        },
        "outputId": "07713c7b-f8b5-47e8-e9a2-3244dbc03daf"
      },
      "source": [
        "#from google.colab import drive \n",
        "#drive.mount('/content/gdrive')"
      ],
      "execution_count": 2,
      "outputs": [
        {
          "output_type": "stream",
          "text": [
            "Drive already mounted at /content/gdrive; to attempt to forcibly remount, call drive.mount(\"/content/gdrive\", force_remount=True).\n"
          ],
          "name": "stdout"
        }
      ]
    },
    {
      "cell_type": "code",
      "metadata": {
        "id": "eLhD5Bdj2goJ",
        "colab_type": "code",
        "colab": {}
      },
      "source": [
        "df_North = pd.read_csv('/content/gdrive/My Drive/pacman_CS_179/my_data_North.csv')\n",
        "df_South = pd.read_csv('/content/gdrive/My Drive/pacman_CS_179/my_data_South.csv')"
      ],
      "execution_count": 3,
      "outputs": []
    },
    {
      "cell_type": "code",
      "metadata": {
        "id": "oCHL49x0qShR",
        "colab_type": "code",
        "colab": {
          "base_uri": "https://localhost:8080/",
          "height": 34
        },
        "outputId": "f1c33bd7-7730-419a-af0f-3ce184b548a1"
      },
      "source": [
        "df_North.shape"
      ],
      "execution_count": 4,
      "outputs": [
        {
          "output_type": "execute_result",
          "data": {
            "text/plain": [
              "(147735, 1616)"
            ]
          },
          "metadata": {
            "tags": []
          },
          "execution_count": 4
        }
      ]
    },
    {
      "cell_type": "code",
      "metadata": {
        "id": "cxAGOKG5qSvp",
        "colab_type": "code",
        "colab": {
          "base_uri": "https://localhost:8080/",
          "height": 34
        },
        "outputId": "5df64810-17c8-4bc3-8ff3-9a42be04a0c7"
      },
      "source": [
        "df_South.shape"
      ],
      "execution_count": 5,
      "outputs": [
        {
          "output_type": "execute_result",
          "data": {
            "text/plain": [
              "(147739, 1616)"
            ]
          },
          "metadata": {
            "tags": []
          },
          "execution_count": 5
        }
      ]
    },
    {
      "cell_type": "code",
      "metadata": {
        "id": "FEDLuR1aqTX-",
        "colab_type": "code",
        "colab": {}
      },
      "source": [
        "features_North = df_North[df_North.columns[:-1]].to_numpy()\n",
        "features_South = df_South[df_South.columns[:-1]].to_numpy()"
      ],
      "execution_count": 6,
      "outputs": []
    },
    {
      "cell_type": "code",
      "metadata": {
        "id": "QSbcFO5CqTc5",
        "colab_type": "code",
        "colab": {}
      },
      "source": [
        "labels_North = df_North[df_North.columns[-1]].to_numpy()\n",
        "labels_South = df_South[df_South.columns[-1]].to_numpy()"
      ],
      "execution_count": 7,
      "outputs": []
    },
    {
      "cell_type": "code",
      "metadata": {
        "id": "9UjfMAPWqTh-",
        "colab_type": "code",
        "colab": {
          "base_uri": "https://localhost:8080/",
          "height": 34
        },
        "outputId": "a98e9a66-e84d-4825-88cd-7f67c6c14ba7"
      },
      "source": [
        "features_North.shape"
      ],
      "execution_count": 8,
      "outputs": [
        {
          "output_type": "execute_result",
          "data": {
            "text/plain": [
              "(147735, 1615)"
            ]
          },
          "metadata": {
            "tags": []
          },
          "execution_count": 8
        }
      ]
    },
    {
      "cell_type": "code",
      "metadata": {
        "id": "EC3GLu5rqSth",
        "colab_type": "code",
        "colab": {
          "base_uri": "https://localhost:8080/",
          "height": 34
        },
        "outputId": "349668c0-cc2a-4744-fafd-4e7777c0c07d"
      },
      "source": [
        "labels_North.shape"
      ],
      "execution_count": 9,
      "outputs": [
        {
          "output_type": "execute_result",
          "data": {
            "text/plain": [
              "(147735,)"
            ]
          },
          "metadata": {
            "tags": []
          },
          "execution_count": 9
        }
      ]
    },
    {
      "cell_type": "code",
      "metadata": {
        "id": "YGvhtpysqSrg",
        "colab_type": "code",
        "colab": {
          "base_uri": "https://localhost:8080/",
          "height": 34
        },
        "outputId": "05df86a2-ccc2-498d-ac4e-6dd3e5cb3ac0"
      },
      "source": [
        "features_South.shape"
      ],
      "execution_count": 10,
      "outputs": [
        {
          "output_type": "execute_result",
          "data": {
            "text/plain": [
              "(147739, 1615)"
            ]
          },
          "metadata": {
            "tags": []
          },
          "execution_count": 10
        }
      ]
    },
    {
      "cell_type": "code",
      "metadata": {
        "id": "cOnlLjngqSob",
        "colab_type": "code",
        "colab": {
          "base_uri": "https://localhost:8080/",
          "height": 34
        },
        "outputId": "0ccd4b9b-383f-4b3b-ce3d-d73f806d62ab"
      },
      "source": [
        "labels_South.shape"
      ],
      "execution_count": 11,
      "outputs": [
        {
          "output_type": "execute_result",
          "data": {
            "text/plain": [
              "(147739,)"
            ]
          },
          "metadata": {
            "tags": []
          },
          "execution_count": 11
        }
      ]
    },
    {
      "cell_type": "code",
      "metadata": {
        "id": "hJqAWOpsqSlQ",
        "colab_type": "code",
        "colab": {}
      },
      "source": [
        "features = [features_North, features_South]\n",
        "labels = [labels_North, labels_South]\n",
        "file_model_names = ['/content/gdrive/My Drive/pacman_CS_179/model_North', \n",
        "                    '/content/gdrive/My Drive/pacman_CS_179/model_South']\n",
        "file_scaler_names = ['/content/gdrive/My Drive/pacman_CS_179/scaler_North.sav', \n",
        "                     '/content/gdrive/My Drive/pacman_CS_179/scaler_South.sav']"
      ],
      "execution_count": 12,
      "outputs": []
    },
    {
      "cell_type": "code",
      "metadata": {
        "id": "lWGdMGl8b9F5",
        "colab_type": "code",
        "colab": {}
      },
      "source": [
        "class PlotLosses(keras.callbacks.Callback):\n",
        "    def on_train_begin(self, logs={}):\n",
        "        self.i = 0\n",
        "        self.x = []\n",
        "        self.losses = []\n",
        "        self.val_losses = []\n",
        "        \n",
        "        self.fig = plt.figure()\n",
        "        \n",
        "        self.logs = []\n",
        "\n",
        "    def on_epoch_end(self, epoch, logs={}):\n",
        "        \n",
        "        self.logs.append(logs)\n",
        "        self.x.append(self.i)\n",
        "        self.losses.append(logs.get('loss'))\n",
        "        self.val_losses.append(logs.get('val_loss'))\n",
        "        self.i += 1\n",
        "        \n",
        "        clear_output(wait=True)\n",
        "        plt.plot(self.x, self.losses, label=\"loss\")\n",
        "        plt.plot(self.x, self.val_losses, label=\"val_loss\")\n",
        "        plt.legend()\n",
        "        plt.show();\n",
        "        \n",
        "plot_losses = PlotLosses()"
      ],
      "execution_count": 18,
      "outputs": []
    },
    {
      "cell_type": "code",
      "metadata": {
        "id": "-vFvXdHEqSek",
        "colab_type": "code",
        "colab": {
          "base_uri": "https://localhost:8080/",
          "height": 265
        },
        "outputId": "882b8028-4026-4f83-b6be-26ee52b46929"
      },
      "source": [
        "for i in range(2):    \n",
        "    #X_train, X_test, y_train, y_test = train_test_split(features[i], labels[i], test_size=0.30)\n",
        "    X_train = features[i]\n",
        "    y_train = labels[i]\n",
        "    \n",
        "    scaler = StandardScaler()\n",
        "    \n",
        "    # Fit only to the training data\n",
        "    scaler.fit(X_train)\n",
        "\n",
        "    # Now apply the transformations to the data:\n",
        "    X_train = scaler.transform(X_train)\n",
        "    #X_test = scaler.transform(X_test)\n",
        "    \n",
        "    model = Sequential()\n",
        "    model.add(Dense(1200, input_dim=1615, activation='sigmoid', kernel_initializer='he_uniform'))\n",
        "    model.add(Dense(700, activation='sigmoid'))\n",
        "    model.add(Dense(200, activation='sigmoid'))\n",
        "    model.add(Dense(1, activation='linear'))\n",
        "    model.compile(loss='mse', optimizer='adam', metrics=['accuracy'])\n",
        "\n",
        "    model.fit(X_train, y_train, validation_split=0.3, \n",
        "                        epochs=100, batch_size=300, verbose=0,\n",
        "                        callbacks = [plot_losses])\n",
        "\n",
        "    # plt.plot(history.history['accuracy'])\n",
        "    # plt.plot(history.history['val_accuracy'])\n",
        "    # plt.title('model accuracy')\n",
        "    # plt.ylabel('accuracy')\n",
        "    # plt.xlabel('epoch')\n",
        "    # plt.legend(['train', 'test'], loc='upper left')\n",
        "    # plt.show()\n",
        "    \n",
        "    model.save(file_model_names[i])\n",
        "    joblib.dump(scaler, file_scaler_names[i])"
      ],
      "execution_count": null,
      "outputs": [
        {
          "output_type": "display_data",
          "data": {
            "image/png": "[encoded data removed]",
            "text/plain": [
              "<Figure size 432x288 with 1 Axes>"
            ]
          },
          "metadata": {
            "tags": [],
            "needs_background": "light"
          }
        }
      ]
    },
    {
      "cell_type": "code",
      "metadata": {
        "id": "TVP7EpquqSbT",
        "colab_type": "code",
        "colab": {}
      },
      "source": [
        ""
      ],
      "execution_count": null,
      "outputs": []
    },
    {
      "cell_type": "code",
      "metadata": {
        "id": "EOl7RStAq2i4",
        "colab_type": "code",
        "colab": {}
      },
      "source": [
        "  "
      ],
      "execution_count": null,
      "outputs": []
    },
    {
      "cell_type": "code",
      "metadata": {
        "id": "pPvga5r2q2tm",
        "colab_type": "code",
        "colab": {}
      },
      "source": [
        ""
      ],
      "execution_count": null,
      "outputs": []
    },
    {
      "cell_type": "code",
      "metadata": {
        "id": "un1BR7j3q2xO",
        "colab_type": "code",
        "colab": {}
      },
      "source": [
        ""
      ],
      "execution_count": null,
      "outputs": []
    },
    {
      "cell_type": "code",
      "metadata": {
        "id": "PAc8FNrZq2qq",
        "colab_type": "code",
        "colab": {}
      },
      "source": [
        ""
      ],
      "execution_count": null,
      "outputs": []
    },
    {
      "cell_type": "code",
      "metadata": {
        "id": "GrJGY2Ojq2m0",
        "colab_type": "code",
        "colab": {}
      },
      "source": [
        ""
      ],
      "execution_count": null,
      "outputs": []
    },
    {
      "cell_type": "code",
      "metadata": {
        "id": "h83OFE0-xc9F",
        "colab_type": "code",
        "colab": {
          "base_uri": "https://localhost:8080/",
          "height": 54
        },
        "outputId": "b520dabc-4868-41d3-9c06-4233dd96024d"
      },
      "source": [
        "start_time = time.time()\n",
        "for i in range(1000):\n",
        "  r = create_1(20, 30)\n",
        "print(time.time() - start_time)\n",
        "start_time = time.time()\n",
        "for i in range(1000):\n",
        "  r = create_2(20, 30)\n",
        "print(time.time() - start_time)\n"
      ],
      "execution_count": null,
      "outputs": [
        {
          "output_type": "stream",
          "text": [
            "0.0659644603729248\n",
            "0.041500091552734375\n"
          ],
          "name": "stdout"
        }
      ]
    },
    {
      "cell_type": "code",
      "metadata": {
        "id": "VA6NFBm8-PP7",
        "colab_type": "code",
        "colab": {
          "base_uri": "https://localhost:8080/",
          "height": 35
        },
        "outputId": "f226c5a4-16a4-4c2a-f12e-ff76b5e8e803"
      },
      "source": [
        "aa = np.random.randint(9, size=5)\n",
        "aa"
      ],
      "execution_count": null,
      "outputs": [
        {
          "output_type": "execute_result",
          "data": {
            "text/plain": [
              "array([5, 3, 5, 1, 4])"
            ]
          },
          "metadata": {
            "tags": []
          },
          "execution_count": 3
        }
      ]
    },
    {
      "cell_type": "code",
      "metadata": {
        "id": "yI1KaDSRQjx2",
        "colab_type": "code",
        "colab": {
          "base_uri": "https://localhost:8080/",
          "height": 35
        },
        "outputId": "53cfd776-b259-4576-debe-5bbda449b4d4"
      },
      "source": [
        "np.concatenate((aa, [9]))"
      ],
      "execution_count": null,
      "outputs": [
        {
          "output_type": "execute_result",
          "data": {
            "text/plain": [
              "array([5, 3, 5, 1, 4, 9])"
            ]
          },
          "metadata": {
            "tags": []
          },
          "execution_count": 7
        }
      ]
    },
    {
      "cell_type": "code",
      "metadata": {
        "id": "hptAfESYIzyw",
        "colab_type": "code",
        "colab": {
          "base_uri": "https://localhost:8080/",
          "height": 35
        },
        "outputId": "9c1e29d7-5cd4-4dd0-e50b-e8043be7f96f"
      },
      "source": [
        "aaa = np.empty([0, 3])\n",
        "aaa"
      ],
      "execution_count": null,
      "outputs": [
        {
          "output_type": "execute_result",
          "data": {
            "text/plain": [
              "array([], shape=(0, 3), dtype=float64)"
            ]
          },
          "metadata": {
            "tags": []
          },
          "execution_count": 30
        }
      ]
    },
    {
      "cell_type": "code",
      "metadata": {
        "id": "ZUezAPqRp0RH",
        "colab_type": "code",
        "colab": {
          "base_uri": "https://localhost:8080/",
          "height": 35
        },
        "outputId": "f6d38995-b571-4681-84c1-20fd7b70da2b"
      },
      "source": [
        "aaa = np.vstack((aaa, [1, 2, 4]))\n",
        "aaa"
      ],
      "execution_count": null,
      "outputs": [
        {
          "output_type": "execute_result",
          "data": {
            "text/plain": [
              "array([[1., 2., 4.]])"
            ]
          },
          "metadata": {
            "tags": []
          },
          "execution_count": 31
        }
      ]
    },
    {
      "cell_type": "code",
      "metadata": {
        "id": "tcmX2rUoI_WI",
        "colab_type": "code",
        "colab": {
          "base_uri": "https://localhost:8080/",
          "height": 54
        },
        "outputId": "5b210c8a-b2df-4cd2-8abd-e4de77df9e1f"
      },
      "source": [
        "aaa = np.vstack((aaa, [4, 5, 0]))\n",
        "aaa"
      ],
      "execution_count": null,
      "outputs": [
        {
          "output_type": "execute_result",
          "data": {
            "text/plain": [
              "array([[1., 2., 4.],\n",
              "       [4., 5., 0.]])"
            ]
          },
          "metadata": {
            "tags": []
          },
          "execution_count": 32
        }
      ]
    },
    {
      "cell_type": "code",
      "metadata": {
        "id": "n5IYOU-mI_e6",
        "colab_type": "code",
        "colab": {}
      },
      "source": [
        ""
      ],
      "execution_count": null,
      "outputs": []
    },
    {
      "cell_type": "code",
      "metadata": {
        "id": "Eqb5k1ou0bud",
        "colab_type": "code",
        "colab": {
          "base_uri": "https://localhost:8080/",
          "height": 35
        },
        "outputId": "81af4405-4e74-4539-f279-08af8f408ae1"
      },
      "source": [
        "bb = np.random.randint(9, size=5)\n",
        "bb"
      ],
      "execution_count": null,
      "outputs": [
        {
          "output_type": "execute_result",
          "data": {
            "text/plain": [
              "array([0, 3, 3, 8, 8])"
            ]
          },
          "metadata": {
            "tags": []
          },
          "execution_count": 3
        }
      ]
    },
    {
      "cell_type": "code",
      "metadata": {
        "id": "fKFIrE3tBB_S",
        "colab_type": "code",
        "colab": {
          "base_uri": "https://localhost:8080/",
          "height": 35
        },
        "outputId": "0a802508-4e91-4ef4-e0c2-d576d8ca4325"
      },
      "source": [
        "cc = np.random.randint(9, size=5)\n",
        "cc"
      ],
      "execution_count": null,
      "outputs": [
        {
          "output_type": "execute_result",
          "data": {
            "text/plain": [
              "array([8, 4, 3, 5, 3])"
            ]
          },
          "metadata": {
            "tags": []
          },
          "execution_count": 4
        }
      ]
    },
    {
      "cell_type": "code",
      "metadata": {
        "id": "iWXtXUDig7TG",
        "colab_type": "code",
        "colab": {
          "base_uri": "https://localhost:8080/",
          "height": 35
        },
        "outputId": "e2b221f1-5b2d-4535-bdd5-223be7b0970d"
      },
      "source": [
        "np.concatenate((aa, bb, cc))"
      ],
      "execution_count": null,
      "outputs": [
        {
          "output_type": "execute_result",
          "data": {
            "text/plain": [
              "array([5, 2, 0, 0, 7, 0, 3, 3, 8, 8, 8, 4, 3, 5, 3])"
            ]
          },
          "metadata": {
            "tags": []
          },
          "execution_count": 8
        }
      ]
    },
    {
      "cell_type": "code",
      "metadata": {
        "id": "QDlyKXSh0643",
        "colab_type": "code",
        "colab": {
          "base_uri": "https://localhost:8080/",
          "height": 72
        },
        "outputId": "dbf1ab0b-d1cd-43c7-9123-d6fe8b9f330e"
      },
      "source": [
        "np.zeros([3, 5])"
      ],
      "execution_count": null,
      "outputs": [
        {
          "output_type": "execute_result",
          "data": {
            "text/plain": [
              "array([[0., 0., 0., 0., 0.],\n",
              "       [0., 0., 0., 0., 0.],\n",
              "       [0., 0., 0., 0., 0.]])"
            ]
          },
          "metadata": {
            "tags": []
          },
          "execution_count": 9
        }
      ]
    },
    {
      "cell_type": "code",
      "metadata": {
        "id": "miu5FzXY07Dj",
        "colab_type": "code",
        "colab": {}
      },
      "source": [
        "import math"
      ],
      "execution_count": null,
      "outputs": []
    },
    {
      "cell_type": "code",
      "metadata": {
        "id": "THrYN0aq1LV0",
        "colab_type": "code",
        "colab": {
          "base_uri": "https://localhost:8080/",
          "height": 35
        },
        "outputId": "11bb8795-5ba4-4bb9-c5ab-5892471f52fe"
      },
      "source": [
        "math.log(41)"
      ],
      "execution_count": null,
      "outputs": [
        {
          "output_type": "execute_result",
          "data": {
            "text/plain": [
              "3.713572066704308"
            ]
          },
          "metadata": {
            "tags": []
          },
          "execution_count": 5
        }
      ]
    },
    {
      "cell_type": "code",
      "metadata": {
        "id": "i14Ss9f5CAbs",
        "colab_type": "code",
        "colab": {
          "base_uri": "https://localhost:8080/",
          "height": 72
        },
        "outputId": "1545b667-f4a3-4cdf-8822-98f16470494a"
      },
      "source": [
        "aaa = np.random.randint(11, size=(3, 3))\n",
        "aaa"
      ],
      "execution_count": null,
      "outputs": [
        {
          "output_type": "execute_result",
          "data": {
            "text/plain": [
              "array([[10,  7,  7],\n",
              "       [ 2,  4,  8],\n",
              "       [ 8,  3,  2]])"
            ]
          },
          "metadata": {
            "tags": []
          },
          "execution_count": 27
        }
      ]
    },
    {
      "cell_type": "code",
      "metadata": {
        "id": "egX2nDmqBZub",
        "colab_type": "code",
        "colab": {
          "base_uri": "https://localhost:8080/",
          "height": 72
        },
        "outputId": "f1e845b6-e484-40c3-f40f-7c6d42d72196"
      },
      "source": [
        "my_list = []\n",
        "for row in aaa:\n",
        "  m = np.mean(row)\n",
        "  sd = np.sqrt(np.sum((row - m) ** 2) / (row.size - 1))\n",
        "  my_list.append((row - m) / sd)\n",
        "np.asarray(my_list)\n",
        "\n"
      ],
      "execution_count": null,
      "outputs": [
        {
          "output_type": "execute_result",
          "data": {
            "text/plain": [
              "array([[ 1.15470054, -0.57735027, -0.57735027],\n",
              "       [-0.87287156, -0.21821789,  1.09108945],\n",
              "       [ 1.14064686, -0.41478068, -0.72586619]])"
            ]
          },
          "metadata": {
            "tags": []
          },
          "execution_count": 31
        }
      ]
    },
    {
      "cell_type": "code",
      "metadata": {
        "id": "ENMMG3-PBZ18",
        "colab_type": "code",
        "colab": {
          "base_uri": "https://localhost:8080/",
          "height": 72
        },
        "outputId": "76be712e-8d12-4eb2-d580-61d22de18278"
      },
      "source": [
        "from scipy import stats\n",
        "stats.zscore(aaa, axis = 1)"
      ],
      "execution_count": null,
      "outputs": [
        {
          "output_type": "execute_result",
          "data": {
            "text/plain": [
              "array([[ 1.41421356, -0.70710678, -0.70710678],\n",
              "       [-1.06904497, -0.26726124,  1.33630621],\n",
              "       [ 1.3970014 , -0.50800051, -0.88900089]])"
            ]
          },
          "metadata": {
            "tags": []
          },
          "execution_count": 29
        }
      ]
    },
    {
      "cell_type": "code",
      "metadata": {
        "id": "bwYsAXssCAls",
        "colab_type": "code",
        "colab": {}
      },
      "source": [
        "np."
      ],
      "execution_count": null,
      "outputs": []
    },
    {
      "cell_type": "code",
      "metadata": {
        "id": "zd2eKrLsCAjJ",
        "colab_type": "code",
        "colab": {
          "base_uri": "https://localhost:8080/",
          "height": 171
        },
        "outputId": "993a75ed-4d6c-4cfe-a5fd-41cfe55704f9"
      },
      "source": [
        "log(1)"
      ],
      "execution_count": null,
      "outputs": [
        {
          "output_type": "error",
          "ename": "NameError",
          "evalue": "ignored",
          "traceback": [
            "\u001b[0;31m---------------------------------------------------------------------------\u001b[0m",
            "\u001b[0;31mNameError\u001b[0m                                 Traceback (most recent call last)",
            "\u001b[0;32m<ipython-input-2-78aa16009595>\u001b[0m in \u001b[0;36m<module>\u001b[0;34m()\u001b[0m\n\u001b[0;32m----> 1\u001b[0;31m \u001b[0mlog\u001b[0m\u001b[0;34m(\u001b[0m\u001b[0;36m1\u001b[0m\u001b[0;34m)\u001b[0m\u001b[0;34m\u001b[0m\u001b[0;34m\u001b[0m\u001b[0m\n\u001b[0m",
            "\u001b[0;31mNameError\u001b[0m: name 'log' is not defined"
          ]
        }
      ]
    },
    {
      "cell_type": "code",
      "metadata": {
        "id": "9XhBkaFNhDxM",
        "colab_type": "code",
        "colab": {
          "base_uri": "https://localhost:8080/",
          "height": 35
        },
        "outputId": "bf5c94e7-eda2-43d3-e2e5-d3b3c58535bb"
      },
      "source": [
        "a = [[1, 3], [3, 4]]\n",
        "b = functools.reduce(operator.iconcat, a, [])\n",
        "b"
      ],
      "execution_count": null,
      "outputs": [
        {
          "output_type": "execute_result",
          "data": {
            "text/plain": [
              "[1, 3, 3, 4]"
            ]
          },
          "metadata": {
            "tags": []
          },
          "execution_count": 5
        }
      ]
    },
    {
      "cell_type": "code",
      "metadata": {
        "id": "TJe0fvCzjSnH",
        "colab_type": "code",
        "colab": {
          "base_uri": "https://localhost:8080/",
          "height": 35
        },
        "outputId": "49008ffb-4ad4-431a-8e00-74870659d8fa"
      },
      "source": [
        "zeros = [0] * 5\n",
        "def foo(aaa):\n",
        "  aaa[2] = 6\n",
        "foo(zeros)\n",
        "zeros"
      ],
      "execution_count": null,
      "outputs": [
        {
          "output_type": "execute_result",
          "data": {
            "text/plain": [
              "[0, 0, 6, 0, 0]"
            ]
          },
          "metadata": {
            "tags": []
          },
          "execution_count": 1
        }
      ]
    },
    {
      "cell_type": "code",
      "metadata": {
        "id": "L9H37Wl_jwn2",
        "colab_type": "code",
        "colab": {
          "base_uri": "https://localhost:8080/",
          "height": 35
        },
        "outputId": "5d267eda-7689-492e-aaf0-825e1c441789"
      },
      "source": [
        "(x, y) = (4, 6)\n",
        "x += 1\n",
        "x"
      ],
      "execution_count": null,
      "outputs": [
        {
          "output_type": "execute_result",
          "data": {
            "text/plain": [
              "5"
            ]
          },
          "metadata": {
            "tags": []
          },
          "execution_count": 60
        }
      ]
    },
    {
      "cell_type": "code",
      "metadata": {
        "id": "zd_jWgkEez1y",
        "colab_type": "code",
        "colab": {
          "base_uri": "https://localhost:8080/",
          "height": 35
        },
        "outputId": "6c9fd7ca-3376-43aa-ca82-fc429fd935e1"
      },
      "source": [
        "print('hi ', x)"
      ],
      "execution_count": null,
      "outputs": [
        {
          "output_type": "stream",
          "text": [
            "hi  5\n"
          ],
          "name": "stdout"
        }
      ]
    },
    {
      "cell_type": "code",
      "metadata": {
        "id": "Ccr4_6YcCGzR",
        "colab_type": "code",
        "colab": {}
      },
      "source": [
        ""
      ],
      "execution_count": null,
      "outputs": []
    }
  ]
}