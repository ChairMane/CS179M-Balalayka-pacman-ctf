{
  "nbformat": 4,
  "nbformat_minor": 0,
  "metadata": {
    "colab": {
      "name": "Untitled1.ipynb",
      "provenance": []
    },
    "kernelspec": {
      "name": "python3",
      "display_name": "Python 3"
    }
  },
  "cells": [
    {
      "cell_type": "code",
      "metadata": {
        "id": "nlAbJ8L1FzRY",
        "colab_type": "code",
        "colab": {
          "base_uri": "https://localhost:8080/",
          "height": 34
        },
        "outputId": "f2ed2a9e-9b23-474a-cbdf-2c96a1b259dc"
      },
      "source": [
        "import pandas as pd\n",
        "import numpy as np\n",
        "\n",
        "import matplotlib.pyplot as plt\n",
        "from IPython.display import clear_output\n",
        "\n",
        "import joblib\n",
        "import math\n",
        "\n",
        "import keras\n",
        "from keras.callbacks import EarlyStopping\n",
        "from keras.models import Sequential\n",
        "from keras.layers import Dense\n",
        "from keras.wrappers.scikit_learn import KerasRegressor\n",
        "\n",
        "from sklearn.model_selection import cross_val_score\n",
        "from sklearn.model_selection import KFold\n",
        "from sklearn.preprocessing import StandardScaler\n",
        "from sklearn.pipeline import Pipeline\n",
        "\n",
        "import requests"
      ],
      "execution_count": 1,
      "outputs": [
        {
          "output_type": "stream",
          "text": [
            "Using TensorFlow backend.\n"
          ],
          "name": "stderr"
        }
      ]
    },
    {
      "cell_type": "code",
      "metadata": {
        "id": "elkpUP7V_bAP",
        "colab_type": "code",
        "colab": {
          "base_uri": "https://localhost:8080/",
          "height": 121
        },
        "outputId": "602ed8e2-d916-49a1-9c90-d0959757df04"
      },
      "source": [
        "#from google.colab import drive \n",
        "#drive.mount('/content/gdrive')"
      ],
      "execution_count": 3,
      "outputs": [
        {
          "output_type": "stream",
          "text": [
            "Go to this URL in a browser: https://accounts.google.com/o/oauth2/auth?client_id=947318989803-6bn6qk8qdgf4n4g3pfee6491hc0brc4i.apps.googleusercontent.com&redirect_uri=urn%3aietf%3awg%3aoauth%3a2.0%3aoob&response_type=code&scope=email%20https%3a%2f%2fwww.googleapis.com%2fauth%2fdocs.test%20https%3a%2f%2fwww.googleapis.com%2fauth%2fdrive%20https%3a%2f%2fwww.googleapis.com%2fauth%2fdrive.photos.readonly%20https%3a%2f%2fwww.googleapis.com%2fauth%2fpeopleapi.readonly\n",
            "\n",
            "Enter your authorization code:\n",
            "··········\n",
            "Mounted at /content/gdrive\n"
          ],
          "name": "stdout"
        }
      ]
    },
    {
      "cell_type": "code",
      "metadata": {
        "id": "eLhD5Bdj2goJ",
        "colab_type": "code",
        "colab": {}
      },
      "source": [
        "df_North = pd.read_csv('/content/gdrive/My Drive/pacman_CS_179/my_data_North.csv')\n",
        "df_South = pd.read_csv('/content/gdrive/My Drive/pacman_CS_179/my_data_South.csv')"
      ],
      "execution_count": 4,
      "outputs": []
    },
    {
      "cell_type": "code",
      "metadata": {
        "id": "oCHL49x0qShR",
        "colab_type": "code",
        "colab": {
          "base_uri": "https://localhost:8080/",
          "height": 34
        },
        "outputId": "aef7c329-94d5-410b-a9e7-c426d7a1876a"
      },
      "source": [
        "df_North.shape"
      ],
      "execution_count": 5,
      "outputs": [
        {
          "output_type": "execute_result",
          "data": {
            "text/plain": [
              "(147735, 1616)"
            ]
          },
          "metadata": {
            "tags": []
          },
          "execution_count": 5
        }
      ]
    },
    {
      "cell_type": "code",
      "metadata": {
        "id": "cxAGOKG5qSvp",
        "colab_type": "code",
        "colab": {
          "base_uri": "https://localhost:8080/",
          "height": 34
        },
        "outputId": "65e76e09-eb2b-4f1b-8dfd-71c6b57ee51c"
      },
      "source": [
        "df_South.shape"
      ],
      "execution_count": 6,
      "outputs": [
        {
          "output_type": "execute_result",
          "data": {
            "text/plain": [
              "(147739, 1616)"
            ]
          },
          "metadata": {
            "tags": []
          },
          "execution_count": 6
        }
      ]
    },
    {
      "cell_type": "code",
      "metadata": {
        "id": "FEDLuR1aqTX-",
        "colab_type": "code",
        "colab": {}
      },
      "source": [
        "features_North = df_North[df_North.columns[:-1]].to_numpy()\n",
        "features_South = df_South[df_South.columns[:-1]].to_numpy()"
      ],
      "execution_count": 7,
      "outputs": []
    },
    {
      "cell_type": "code",
      "metadata": {
        "id": "QSbcFO5CqTc5",
        "colab_type": "code",
        "colab": {}
      },
      "source": [
        "labels_North = df_North[df_North.columns[-1]].to_numpy()\n",
        "labels_South = df_South[df_South.columns[-1]].to_numpy()"
      ],
      "execution_count": 8,
      "outputs": []
    },
    {
      "cell_type": "code",
      "metadata": {
        "id": "9UjfMAPWqTh-",
        "colab_type": "code",
        "colab": {
          "base_uri": "https://localhost:8080/",
          "height": 34
        },
        "outputId": "e7a4bcfe-361e-405a-87ec-6f2f89705459"
      },
      "source": [
        "features_North.shape"
      ],
      "execution_count": 9,
      "outputs": [
        {
          "output_type": "execute_result",
          "data": {
            "text/plain": [
              "(147735, 1615)"
            ]
          },
          "metadata": {
            "tags": []
          },
          "execution_count": 9
        }
      ]
    },
    {
      "cell_type": "code",
      "metadata": {
        "id": "EC3GLu5rqSth",
        "colab_type": "code",
        "colab": {
          "base_uri": "https://localhost:8080/",
          "height": 34
        },
        "outputId": "2575cb0d-dab4-48f7-d755-0e4080451e42"
      },
      "source": [
        "labels_North.shape"
      ],
      "execution_count": 10,
      "outputs": [
        {
          "output_type": "execute_result",
          "data": {
            "text/plain": [
              "(147735,)"
            ]
          },
          "metadata": {
            "tags": []
          },
          "execution_count": 10
        }
      ]
    },
    {
      "cell_type": "code",
      "metadata": {
        "id": "YGvhtpysqSrg",
        "colab_type": "code",
        "colab": {
          "base_uri": "https://localhost:8080/",
          "height": 34
        },
        "outputId": "27f63d96-5bc1-4ece-b105-2ba23a4771a6"
      },
      "source": [
        "features_South.shape"
      ],
      "execution_count": 11,
      "outputs": [
        {
          "output_type": "execute_result",
          "data": {
            "text/plain": [
              "(147739, 1615)"
            ]
          },
          "metadata": {
            "tags": []
          },
          "execution_count": 11
        }
      ]
    },
    {
      "cell_type": "code",
      "metadata": {
        "id": "cOnlLjngqSob",
        "colab_type": "code",
        "colab": {
          "base_uri": "https://localhost:8080/",
          "height": 34
        },
        "outputId": "924869a9-7294-4e16-9715-b2e2f6d05bf7"
      },
      "source": [
        "labels_South.shape"
      ],
      "execution_count": 12,
      "outputs": [
        {
          "output_type": "execute_result",
          "data": {
            "text/plain": [
              "(147739,)"
            ]
          },
          "metadata": {
            "tags": []
          },
          "execution_count": 12
        }
      ]
    },
    {
      "cell_type": "code",
      "metadata": {
        "id": "hJqAWOpsqSlQ",
        "colab_type": "code",
        "colab": {}
      },
      "source": [
        "features = [features_North, features_South]\n",
        "labels = [labels_North, labels_South]\n",
        "file_model_names = ['gdrive/My Drive/pacman_CS_179/model_North.hdf5', \n",
        "                    'gdrive/My Drive/pacman_CS_179/model_South.hdf5']\n",
        "\n",
        "file_scaler_names = ['gdrive/My Drive/pacman_CS_179/scaler_North.sav', \n",
        "                     'gdrive/My Drive/pacman_CS_179/scaler_South.sav']"
      ],
      "execution_count": 13,
      "outputs": []
    },
    {
      "cell_type": "code",
      "metadata": {
        "id": "lWGdMGl8b9F5",
        "colab_type": "code",
        "colab": {}
      },
      "source": [
        "class PlotLosses(keras.callbacks.Callback):\n",
        "    def on_train_begin(self, logs={}):\n",
        "        self.i = 0\n",
        "        self.x = []\n",
        "        self.losses = []\n",
        "        self.val_losses = []\n",
        "        \n",
        "        self.fig = plt.figure()\n",
        "        \n",
        "        self.logs = []\n",
        "\n",
        "    def on_epoch_end(self, epoch, logs={}):\n",
        "        \n",
        "        self.logs.append(logs)\n",
        "        self.x.append(self.i)\n",
        "        self.losses.append(logs.get('loss'))\n",
        "        self.val_losses.append(logs.get('val_loss'))\n",
        "        self.i += 1\n",
        "        \n",
        "        clear_output(wait=True)\n",
        "        plt.plot(self.x, self.losses, label=\"loss\")\n",
        "        plt.plot(self.x, self.val_losses, label=\"val_loss\")\n",
        "        plt.legend()\n",
        "        plt.show();\n",
        "\n",
        "my_callbacks = [PlotLosses(),\n",
        "                EarlyStopping(monitor='val_loss', patience=10, mode='min', min_delta=0.01)]"
      ],
      "execution_count": 14,
      "outputs": []
    },
    {
      "cell_type": "code",
      "metadata": {
        "id": "-vFvXdHEqSek",
        "colab_type": "code",
        "colab": {
          "base_uri": "https://localhost:8080/",
          "height": 267
        },
        "outputId": "0cc98929-150b-4246-a827-9b372195b806"
      },
      "source": [
        "for i in range(2):    \n",
        "    #X_train, X_test, y_train, y_test = train_test_split(features[i], labels[i], test_size=0.30)\n",
        "    X_train = features[i]\n",
        "    y_train = labels[i]\n",
        "    \n",
        "    scaler = StandardScaler()\n",
        "    \n",
        "    # Fit only to the training data\n",
        "    scaler.fit(X_train)\n",
        "\n",
        "    # Now apply the transformations to the data:\n",
        "    X_train = scaler.transform(X_train)\n",
        "    #X_test = scaler.transform(X_test)\n",
        "    \n",
        "    model = Sequential()\n",
        "    model.add(Dense(1200, input_dim=1615, activation='sigmoid', kernel_initializer='he_uniform'))\n",
        "    model.add(Dense(700, activation='sigmoid'))\n",
        "    model.add(Dense(200, activation='sigmoid'))\n",
        "    model.add(Dense(1, activation='linear'))\n",
        "    model.compile(loss='mse', optimizer='adam', metrics=['accuracy'])\n",
        "\n",
        "    model.fit(X_train, y_train, validation_split=0.3, \n",
        "                        epochs=100, batch_size=300, verbose=0,\n",
        "                        callbacks = my_callbacks)\n",
        "    \n",
        "    model.save(file_model_names[i])\n",
        "    joblib.dump(scaler, file_scaler_names[i])"
      ],
      "execution_count": 15,
      "outputs": [
        {
          "output_type": "display_data",
          "data": {
            "image/png": "[encoded data removed]",
            "text/plain": [
              "<Figure size 432x288 with 1 Axes>"
            ]
          },
          "metadata": {
            "tags": [],
            "needs_background": "light"
          }
        }
      ]
    },
    {
      "cell_type": "code",
      "metadata": {
        "id": "TVP7EpquqSbT",
        "colab_type": "code",
        "colab": {}
      },
      "source": [
        ""
      ],
      "execution_count": null,
      "outputs": []
    },
    {
      "cell_type": "code",
      "metadata": {
        "id": "EOl7RStAq2i4",
        "colab_type": "code",
        "colab": {}
      },
      "source": [
        "  "
      ],
      "execution_count": null,
      "outputs": []
    },
    {
      "cell_type": "code",
      "metadata": {
        "id": "pPvga5r2q2tm",
        "colab_type": "code",
        "colab": {}
      },
      "source": [
        ""
      ],
      "execution_count": null,
      "outputs": []
    },
    {
      "cell_type": "code",
      "metadata": {
        "id": "un1BR7j3q2xO",
        "colab_type": "code",
        "colab": {}
      },
      "source": [
        ""
      ],
      "execution_count": null,
      "outputs": []
    },
    {
      "cell_type": "code",
      "metadata": {
        "id": "PAc8FNrZq2qq",
        "colab_type": "code",
        "colab": {}
      },
      "source": [
        ""
      ],
      "execution_count": null,
      "outputs": []
    },
    {
      "cell_type": "code",
      "metadata": {
        "id": "GrJGY2Ojq2m0",
        "colab_type": "code",
        "colab": {}
      },
      "source": [
        ""
      ],
      "execution_count": null,
      "outputs": []
    },
    {
      "cell_type": "code",
      "metadata": {
        "id": "h83OFE0-xc9F",
        "colab_type": "code",
        "colab": {}
      },
      "source": [
        "start_time = time.time()\n",
        "for i in range(1000):\n",
        "  r = create_1(20, 30)\n",
        "print(time.time() - start_time)\n",
        "start_time = time.time()\n",
        "for i in range(1000):\n",
        "  r = create_2(20, 30)\n",
        "print(time.time() - start_time)\n"
      ],
      "execution_count": null,
      "outputs": []
    },
    {
      "cell_type": "code",
      "metadata": {
        "id": "VA6NFBm8-PP7",
        "colab_type": "code",
        "colab": {}
      },
      "source": [
        "aa = np.random.randint(9, size=5)\n",
        "aa"
      ],
      "execution_count": null,
      "outputs": []
    },
    {
      "cell_type": "code",
      "metadata": {
        "id": "yI1KaDSRQjx2",
        "colab_type": "code",
        "colab": {}
      },
      "source": [
        "np.concatenate((aa, [9]))"
      ],
      "execution_count": null,
      "outputs": []
    },
    {
      "cell_type": "code",
      "metadata": {
        "id": "hptAfESYIzyw",
        "colab_type": "code",
        "colab": {}
      },
      "source": [
        "aaa = np.empty([0, 3])\n",
        "aaa"
      ],
      "execution_count": null,
      "outputs": []
    },
    {
      "cell_type": "code",
      "metadata": {
        "id": "ZUezAPqRp0RH",
        "colab_type": "code",
        "colab": {}
      },
      "source": [
        "aaa = np.vstack((aaa, [1, 2, 4]))\n",
        "aaa"
      ],
      "execution_count": null,
      "outputs": []
    },
    {
      "cell_type": "code",
      "metadata": {
        "id": "tcmX2rUoI_WI",
        "colab_type": "code",
        "colab": {}
      },
      "source": [
        "aaa = np.vstack((aaa, [4, 5, 0]))\n",
        "aaa"
      ],
      "execution_count": null,
      "outputs": []
    },
    {
      "cell_type": "code",
      "metadata": {
        "id": "n5IYOU-mI_e6",
        "colab_type": "code",
        "colab": {}
      },
      "source": [
        ""
      ],
      "execution_count": null,
      "outputs": []
    },
    {
      "cell_type": "code",
      "metadata": {
        "id": "Eqb5k1ou0bud",
        "colab_type": "code",
        "colab": {}
      },
      "source": [
        "bb = np.random.randint(9, size=5)\n",
        "bb"
      ],
      "execution_count": null,
      "outputs": []
    },
    {
      "cell_type": "code",
      "metadata": {
        "id": "fKFIrE3tBB_S",
        "colab_type": "code",
        "colab": {}
      },
      "source": [
        "cc = np.random.randint(9, size=5)\n",
        "cc"
      ],
      "execution_count": null,
      "outputs": []
    },
    {
      "cell_type": "code",
      "metadata": {
        "id": "iWXtXUDig7TG",
        "colab_type": "code",
        "colab": {}
      },
      "source": [
        "np.concatenate((aa, bb, cc))"
      ],
      "execution_count": null,
      "outputs": []
    },
    {
      "cell_type": "code",
      "metadata": {
        "id": "QDlyKXSh0643",
        "colab_type": "code",
        "colab": {}
      },
      "source": [
        "np.zeros([3, 5])"
      ],
      "execution_count": null,
      "outputs": []
    },
    {
      "cell_type": "code",
      "metadata": {
        "id": "miu5FzXY07Dj",
        "colab_type": "code",
        "colab": {}
      },
      "source": [
        "import math"
      ],
      "execution_count": null,
      "outputs": []
    },
    {
      "cell_type": "code",
      "metadata": {
        "id": "THrYN0aq1LV0",
        "colab_type": "code",
        "colab": {}
      },
      "source": [
        "math.log(41)"
      ],
      "execution_count": null,
      "outputs": []
    },
    {
      "cell_type": "code",
      "metadata": {
        "id": "i14Ss9f5CAbs",
        "colab_type": "code",
        "colab": {}
      },
      "source": [
        "aaa = np.random.randint(11, size=(3, 3))\n",
        "aaa"
      ],
      "execution_count": null,
      "outputs": []
    },
    {
      "cell_type": "code",
      "metadata": {
        "id": "egX2nDmqBZub",
        "colab_type": "code",
        "colab": {}
      },
      "source": [
        "my_list = []\n",
        "for row in aaa:\n",
        "  m = np.mean(row)\n",
        "  sd = np.sqrt(np.sum((row - m) ** 2) / (row.size - 1))\n",
        "  my_list.append((row - m) / sd)\n",
        "np.asarray(my_list)\n",
        "\n"
      ],
      "execution_count": null,
      "outputs": []
    },
    {
      "cell_type": "code",
      "metadata": {
        "id": "ENMMG3-PBZ18",
        "colab_type": "code",
        "colab": {}
      },
      "source": [
        "from scipy import stats\n",
        "stats.zscore(aaa, axis = 1)"
      ],
      "execution_count": null,
      "outputs": []
    },
    {
      "cell_type": "code",
      "metadata": {
        "id": "bwYsAXssCAls",
        "colab_type": "code",
        "colab": {}
      },
      "source": [
        "np."
      ],
      "execution_count": null,
      "outputs": []
    },
    {
      "cell_type": "code",
      "metadata": {
        "id": "zd2eKrLsCAjJ",
        "colab_type": "code",
        "colab": {}
      },
      "source": [
        "log(1)"
      ],
      "execution_count": null,
      "outputs": []
    },
    {
      "cell_type": "code",
      "metadata": {
        "id": "9XhBkaFNhDxM",
        "colab_type": "code",
        "colab": {}
      },
      "source": [
        "a = [[1, 3], [3, 4]]\n",
        "b = functools.reduce(operator.iconcat, a, [])\n",
        "b"
      ],
      "execution_count": null,
      "outputs": []
    },
    {
      "cell_type": "code",
      "metadata": {
        "id": "TJe0fvCzjSnH",
        "colab_type": "code",
        "colab": {}
      },
      "source": [
        "zeros = [0] * 5\n",
        "def foo(aaa):\n",
        "  aaa[2] = 6\n",
        "foo(zeros)\n",
        "zeros"
      ],
      "execution_count": null,
      "outputs": []
    },
    {
      "cell_type": "code",
      "metadata": {
        "id": "L9H37Wl_jwn2",
        "colab_type": "code",
        "colab": {}
      },
      "source": [
        "(x, y) = (4, 6)\n",
        "x += 1\n",
        "x"
      ],
      "execution_count": null,
      "outputs": []
    },
    {
      "cell_type": "code",
      "metadata": {
        "id": "zd_jWgkEez1y",
        "colab_type": "code",
        "colab": {}
      },
      "source": [
        "print('hi ', x)"
      ],
      "execution_count": null,
      "outputs": []
    },
    {
      "cell_type": "code",
      "metadata": {
        "id": "Ccr4_6YcCGzR",
        "colab_type": "code",
        "colab": {}
      },
      "source": [
        ""
      ],
      "execution_count": null,
      "outputs": []
    }
  ]
}